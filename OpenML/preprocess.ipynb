{
 "cells": [
  {
   "cell_type": "markdown",
   "metadata": {},
   "source": [
    "### Skeleton Code for Semi-Synthetic datasets in OpenML \n",
    "### Example: https://www.openml.org/d/21"
   ]
  },
  {
   "cell_type": "code",
   "execution_count": 8,
   "metadata": {},
   "outputs": [],
   "source": [
    "import pickle\n",
    "import gzip\n",
    "import numpy as np\n",
    "import scipy as sp\n",
    "import seaborn as sns\n",
    "import pandas as pd\n",
    "import matplotlib.pyplot as plt\n",
    "from tqdm import tqdm\n",
    "import pandas as pd"
   ]
  },
  {
   "cell_type": "code",
   "execution_count": 9,
   "metadata": {},
   "outputs": [],
   "source": [
    "# Summary of Dataset Information\n",
    "data_info = {'ID': [21, 23, 26, 31, 50, 151, 155, 183, 184, 292, 333, 334, 335, 351, 354, 375,\n",
    "            469, 475, 679, 720, 741, 825, 826, 872, 881, 915, 923, 934, 959, 983, 991, \n",
    "            1014, 1169, 1216, 1217, 1218, 1235, 1236, 1237, 1470, 1481, 1483, 1498, \n",
    "            1557, 1568, 4135, 4552], \n",
    "            \"sensitive attribute\": ['buying', 'Wifes_education', 'parents', 'checking_status', 'top-left-square', 'day', 's1', 'Sex', 'white_king_row', 'Y',\n",
    "                                  'class', 'class', 'class', 'Y', 'Y', 'speaker', 'DMFT.Begin', 'Time_of_survey', 'sleep_state', 'Sex',\n",
    "                                  'sleep_state', 'RAD', 'Occasion', 'RAD', 'x3', 'SMOKSTAT', 'isns', 'family_structure', 'parents', 'Wifes_education',\n",
    "                                  'buying', 'DMFT.Begin', 'Airline', 'click', 'click', 'click', 'elevel', 'size', 'size', 'V2',\n",
    "                                  'V3', 'V1', 'V5', 'V1', 'V1', 'RESOURCE', 'V1'], \n",
    "            \"label\": ['class', 'Contraceptive_method_used', 'class', 'class', 'Class', 'class', 'class', 'Class_number_of_rings', 'game', 'X1',\n",
    "                                  'attr1', 'attr1', 'attr1', 'X1', 'X1', 'utterance', 'Prevention', 'Political_system', 'temperature', 'binaryClass',\n",
    "                                  'binaryClass', 'binaryClass', 'binaryClass', 'binaryClass', 'binaryClass', 'binaryClass', 'binaryClass', 'binaryClass', 'binaryClass', 'binaryClass',\n",
    "                                  'binaryClass', 'binaryClass', 'Delay', 'impression', 'impression', 'impression', 'class', 'class', 'class', 'Class',\n",
    "                                  'Class', 'Class', 'Class', 'Class', 'Class', 'target', 'V17'],\n",
    "            \"link\": [\"https://www.openml.org/data/get_csv/\" + string for string in [\"21/dataset_21_car.arff\", \"23/dataset_23_cmc.arff\", \"26/dataset_26_nursery.arff\", \"31/dataset_31_credit-g.arff\", \"50/dataset_50_tic-tac-toe.arff\", \"2419/electricity-normalized.arff\", \"2423/pokerhand-normalized.arff\", \"3620/dataset_187_abalone.arff\", \"3621/dataset_188_kropt.arff\", \"49822/australian.arff\", \n",
    "                                                                             \"52236/phpAyyBys\", \"52237/php4fATLZ\", \"52238/phphZierv\", \"52254/php89ntbG\", \"52257/phpQfR7GF\", \"52415/JapaneseVowels.arff\", \"52581/analcatdata_dmft.arff\", \"52587/analcatdata_germangss.arff\", \"52979/rmftsa_sleepdata.arff\", \"53254/abalone.arff\",\n",
    "                                                                             \"53275/rmftsa_sleepdata.arff\", \"53359/boston_corrected.arff\", \"53360/sensory.arff\", \"53406/boston.arff\", \"53415/mv.arff\", \"53449/plasma_retinol.arff\", \"53457/visualizing_soil.arff\", \"53468/socmob.arff\", \"53493/nursery.arff\", \"53517/cmc.arff\",\n",
    "                                                                             \"53525/car.arff\", \"53548/analcatdata_dmft.arff\", \"66526/phpvcoG8S\", \"183030/phppCF8Zy\", \"183039/phpLV1N3m\", \"183150/phpqZOQcc\", \"520800/Agrawal1.arff\", \"520801/Stagger1.arff\", \"520802/Stagger2.arff\", \"1586239/phpce61nO\",\n",
    "                                                                             \"1590570/php7zhUPY\", \"1590940/phpH4DHsK\", \"1592290/phpgNaXZe\", \"1593753/phpfUae7X\", \"1675984/phpfrJpBS\", \"1681098/phpmPOD5A\", \"1798821/php0mZlkF\"]]\n",
    "            }"
   ]
  },
  {
   "cell_type": "code",
   "execution_count": 10,
   "metadata": {},
   "outputs": [],
   "source": [
    "def preprocessing(df, S_name, Y_name):\n",
    "    \"\"\"\n",
    "    convert categorical features/sentive attribute/label to binary\n",
    "    \"\"\"\n",
    "    df_new = df.copy()\n",
    "    \n",
    "    # feature names\n",
    "    feat_name = df_new.columns.values.tolist()\n",
    "    \n",
    "    for feat in feat_name:\n",
    "        feat_type = df_new[feat].dtype\n",
    "        # if categorical features or sensitive attribute or label,\n",
    "        # convert to binary feature.\n",
    "        if feat_type == \"object\" or feat == S_name or feat == Y_name:\n",
    "            feat_count = df_new[feat].value_counts()\n",
    "            if len(feat_count.index[1:]) == 1:\n",
    "                df_new[feat] = df_new[feat].replace(feat_count.index[1], np.nan)\n",
    "                df_new[feat] = df_new[feat].notnull() * 1\n",
    "            else:\n",
    "                df_new[feat] = df_new[feat].replace(feat_count.index[1:], np.nan)\n",
    "                df_new[feat] = df_new[feat].notnull() * 1\n",
    "    \n",
    "    \"\"\"\n",
    "    split dataset based upon sensitive attribute\n",
    "    \"\"\"\n",
    "    # split dataset\n",
    "    df_0 = df_new[df_new[S_name] == 0]\n",
    "    df_1 = df_new[df_new[S_name] == 1]\n",
    "\n",
    "    # get label\n",
    "    Y_0 = df_0[Y_name].values\n",
    "    Y_1 = df_1[Y_name].values\n",
    "\n",
    "    # get features\n",
    "    X_0 = df_0.drop([S_name, Y_name], axis=1).values\n",
    "    X_1 = df_1.drop([S_name, Y_name], axis=1).values\n",
    "    \n",
    "    return X_0, X_1, Y_0, Y_1"
   ]
  },
  {
   "cell_type": "code",
   "execution_count": 11,
   "metadata": {},
   "outputs": [
    {
     "name": "stderr",
     "output_type": "stream",
     "text": [
      "100%|██████████| 47/47 [04:00<00:00,  2.50s/it]\n"
     ]
    }
   ],
   "source": [
    "num_datasets = len(data_info['ID'])\n",
    "datasets = pd.DataFrame(data = data_info)\n",
    "\n",
    "dataset_dict = {}\n",
    "\n",
    "for i in tqdm(range(num_datasets)):\n",
    "    # read csv file\n",
    "    df = pd.io.parsers.read_csv(datasets[\"link\"][i])\n",
    "    # dataset ID\n",
    "    ID = datasets[\"ID\"][i]\n",
    "    # sensitive attribute\n",
    "    S_name = datasets[\"sensitive attribute\"][i]\n",
    "    # label\n",
    "    Y_name = datasets[\"label\"][i]\n",
    "    \n",
    "    \n",
    "    X0, X1, Y0, Y1 = preprocessing(df, S_name, Y_name)\n",
    "    \n",
    "    data = {\"X0\": X0, \"X1\": X1, \"Y0\": Y0, \"Y1\": Y1}\n",
    "    dataset_dict[i] = data"
   ]
  },
  {
   "cell_type": "code",
   "execution_count": 14,
   "metadata": {},
   "outputs": [],
   "source": [
    "pickle_save_file = 'datasets_parsed.pickle'\n",
    "f = open(pickle_save_file, 'wb')\n",
    "pickle.dump(dataset_dict, f, 2)\n",
    "f.close()"
   ]
  },
  {
   "cell_type": "code",
   "execution_count": 15,
   "metadata": {},
   "outputs": [
    {
     "name": "stdout",
     "output_type": "stream",
     "text": [
      "923 isns binaryClass\n",
      "1236 size class\n"
     ]
    }
   ],
   "source": [
    "for i in [26, 37]:\n",
    "    print(data_info['ID'][i], data_info[\"sensitive attribute\"][i], data_info[\"label\"][i])"
   ]
  },
  {
   "cell_type": "code",
   "execution_count": null,
   "metadata": {},
   "outputs": [],
   "source": []
  },
  {
   "cell_type": "code",
   "execution_count": null,
   "metadata": {},
   "outputs": [],
   "source": []
  },
  {
   "cell_type": "code",
   "execution_count": null,
   "metadata": {},
   "outputs": [],
   "source": []
  },
  {
   "cell_type": "code",
   "execution_count": null,
   "metadata": {},
   "outputs": [],
   "source": []
  }
 ],
 "metadata": {
  "kernelspec": {
   "display_name": "Python 3",
   "language": "python",
   "name": "python3"
  },
  "language_info": {
   "codemirror_mode": {
    "name": "ipython",
    "version": 3
   },
   "file_extension": ".py",
   "mimetype": "text/x-python",
   "name": "python",
   "nbconvert_exporter": "python",
   "pygments_lexer": "ipython3",
   "version": "3.6.8"
  }
 },
 "nbformat": 4,
 "nbformat_minor": 2
}
